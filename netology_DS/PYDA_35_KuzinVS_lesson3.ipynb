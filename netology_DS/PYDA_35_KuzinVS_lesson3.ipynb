{
  "nbformat": 4,
  "nbformat_minor": 0,
  "metadata": {
    "colab": {
      "provenance": [],
      "authorship_tag": "ABX9TyOo50tVjjJt6Wu7aLdPg7B4",
      "include_colab_link": true
    },
    "kernelspec": {
      "name": "python3",
      "display_name": "Python 3"
    },
    "language_info": {
      "name": "python"
    }
  },
  "cells": [
    {
      "cell_type": "markdown",
      "metadata": {
        "id": "view-in-github",
        "colab_type": "text"
      },
      "source": [
        "<a href=\"https://colab.research.google.com/github/basketbob/MDS/blob/main/netology_DS/PYDA_35_KuzinVS_lesson3.ipynb\" target=\"_parent\"><img src=\"https://colab.research.google.com/assets/colab-badge.svg\" alt=\"Open In Colab\"/></a>"
      ]
    },
    {
      "cell_type": "code",
      "execution_count": null,
      "metadata": {
        "id": "B4_ECOb8iJGt"
      },
      "outputs": [],
      "source": [
        "#Задание 1\n",
        "ids = {\n",
        "  'user1': [213, 213, 213, 15, 213],\n",
        "  'user2': [54, 54, 119, 119, 119],\n",
        "  'user3': [213, 98, 98, 35]\n",
        "}\n",
        "unique_ids = []\n",
        "for id in ids.items():\n",
        "  unique_ids += id[1]\n",
        "print(set(unique_ids))"
      ]
    },
    {
      "cell_type": "code",
      "source": [
        "#Задание 2\n",
        "queries = [\n",
        "  'смотреть сериалы онлайн',\n",
        "  'новости спорта',\n",
        "  'афиша кино',\n",
        "  'курс доллара',\n",
        "  'сериалы этим летом',\n",
        "  'курс по питону',\n",
        "  'сериалы про спорт'\n",
        "]\n",
        "lens = [len(q.split()) for q in queries]\n",
        "length = len(lens)\n",
        "unique_lens = set(sorted(lens))\n",
        "\n",
        "for l in unique_lens:\n",
        "  print(f\"Поисковых запросов, содержащих {l} слов(а): {(lens.count(l) * 100 / length) :.2f}%\")"
      ],
      "metadata": {
        "id": "7vyxKgqWsjUU"
      },
      "execution_count": null,
      "outputs": []
    },
    {
      "cell_type": "code",
      "source": [
        "#Задание 3\n",
        "results = {\n",
        "  'vk': {'revenue': 103, 'cost': 98},\n",
        "  'yandex': {'revenue': 179, 'cost': 153},\n",
        "  'facebook': {'revenue': 103, 'cost': 110},\n",
        "  'adwords': {'revenue': 35, 'cost': 34},\n",
        "  'twitter': {'revenue': 11, 'cost': 24}\n",
        "}\n",
        "\n",
        "for res in results.items():\n",
        "  results[res[0]]['ROI'] = round((res[1]['revenue'] / res[1]['cost'] - 1) * 100, 2)\n",
        "\n",
        "print(results)"
      ],
      "metadata": {
        "colab": {
          "base_uri": "https://localhost:8080/"
        },
        "id": "BRBrTMJ_xxs8",
        "outputId": "898b809e-1108-477f-eb27-88043505a2b6"
      },
      "execution_count": null,
      "outputs": [
        {
          "output_type": "stream",
          "name": "stdout",
          "text": [
            "{'vk': {'revenue': 103, 'cost': 98, 'ROI': 5.1}, 'yandex': {'revenue': 179, 'cost': 153, 'ROI': 16.99}, 'facebook': {'revenue': 103, 'cost': 110, 'ROI': -6.36}, 'adwords': {'revenue': 35, 'cost': 34, 'ROI': 2.94}, 'twitter': {'revenue': 11, 'cost': 24, 'ROI': -54.17}}\n"
          ]
        }
      ]
    },
    {
      "cell_type": "code",
      "source": [
        "#Задание 4\n",
        "stats = {'facebook': 55, 'yandex': 115, 'vk': 120, 'google': 99, 'email': 42, 'ok': 98}\n",
        "stats = sorted(stats.items(), key=lambda item: item[1], reverse=True)\n",
        "print(f\"Максимальный объем продаж на рекламном канале: {stats[0][0]}\")"
      ],
      "metadata": {
        "id": "VLG78Z_m1p-u"
      },
      "execution_count": null,
      "outputs": []
    },
    {
      "cell_type": "code",
      "source": [
        "#Задание 5\n",
        "my_list = ['2018-01-01', 'yandex', 'cpc', 100]\n",
        "new_list = []\n",
        "for el in my_list:\n",
        "  print(el)\n",
        "  #new_list.append([el])\n",
        "  #print(new_list)\n",
        "  #print(my_list)\n",
        "#Сделать через рекурсию, но их мы еще не проходили. Как под другому, не могу сообразить :("
      ],
      "metadata": {
        "colab": {
          "base_uri": "https://localhost:8080/"
        },
        "id": "RiB8RAmY6bYy",
        "outputId": "0536846d-bbfd-4180-debc-9eeafb497787"
      },
      "execution_count": null,
      "outputs": [
        {
          "output_type": "stream",
          "name": "stdout",
          "text": [
            "2018-01-01\n",
            "yandex\n",
            "cpc\n",
            "100\n"
          ]
        }
      ]
    },
    {
      "cell_type": "code",
      "source": [
        "#Задание 6\n",
        "cook_book = {\n",
        "  'салат': [\n",
        "    {'ingridient_name': 'сыр', 'quantity': 50, 'measure': 'гр'},\n",
        "    {'ingridient_name': 'томаты', 'quantity': 2, 'measure': 'шт'},\n",
        "    {'ingridient_name': 'огурцы', 'quantity': 20, 'measure': 'гр'},\n",
        "    {'ingridient_name': 'маслины', 'quantity': 10, 'measure': 'гр'},\n",
        "    {'ingridient_name': 'оливковое масло', 'quantity': 20, 'measure': 'мл'},\n",
        "    {'ingridient_name': 'салат', 'quantity': 10, 'measure': 'гр'},\n",
        "    {'ingridient_name': 'перец', 'quantity': 20, 'measure': 'гр'}\n",
        "  ],\n",
        "  'пицца': [\n",
        "    {'ingridient_name': 'сыр', 'quantity': 20, 'measure': 'гр'},\n",
        "    {'ingridient_name': 'колбаса', 'quantity': 30, 'measure': 'гр'},\n",
        "    {'ingridient_name': 'бекон', 'quantity': 30, 'measure': 'гр'},\n",
        "    {'ingridient_name': 'оливки', 'quantity': 10, 'measure': 'гр'},\n",
        "    {'ingridient_name': 'томаты', 'quantity': 20, 'measure': 'гр'},\n",
        "    {'ingridient_name': 'тесто', 'quantity': 100, 'measure': 'гр'}\n",
        "  ],\n",
        "  'лимонад': [\n",
        "    {'ingridient_name': 'лимон', 'quantity': 1, 'measure': 'шт'},\n",
        "    {'ingridient_name': 'вода', 'quantity': 200, 'measure': 'мл'},\n",
        "    {'ingridient_name': 'сахар', 'quantity': 10, 'measure': 'гр'},\n",
        "    {'ingridient_name': 'лайм', 'quantity': 20, 'measure': 'гр'}\n",
        "  ]\n",
        "}\n",
        "cnt = 3 #кол-во порций\n",
        "\n",
        "all_ingrs = {} #результирующий словарь\n",
        "for ingrs in cook_book.values():\n",
        "  for ingr in ingrs:\n",
        "    ind = ingr['ingridient_name'], ingr['measure'] #ключ делаем в виде кортежа (ингридиент, размерность)\n",
        "    all_ingrs[ind] = all_ingrs.get(ind, 0) #создаем запись, если её нету\n",
        "    all_ingrs[ind] += ingr['quantity'] * cnt #умножаем на количество и прибавляем к имеющемуся кол-ву\n",
        "\n",
        "#вывод результата\n",
        "for ingr in all_ingrs.items():\n",
        "  print(ingr[0][0] + ': ' + str(ingr[1]), ingr[0][1])\n"
      ],
      "metadata": {
        "id": "6eFSNjBmBcqe",
        "colab": {
          "base_uri": "https://localhost:8080/"
        },
        "outputId": "6334cd1a-1931-462e-b9e3-def88568e001"
      },
      "execution_count": null,
      "outputs": [
        {
          "output_type": "stream",
          "name": "stdout",
          "text": [
            "{'ingridient_name': 'сыр', 'quantity': 50, 'measure': 'гр'}\n",
            "{'ingridient_name': 'томаты', 'quantity': 2, 'measure': 'шт'}\n",
            "{'ingridient_name': 'огурцы', 'quantity': 20, 'measure': 'гр'}\n",
            "{'ingridient_name': 'маслины', 'quantity': 10, 'measure': 'гр'}\n",
            "{'ingridient_name': 'оливковое масло', 'quantity': 20, 'measure': 'мл'}\n",
            "{'ingridient_name': 'салат', 'quantity': 10, 'measure': 'гр'}\n",
            "{'ingridient_name': 'перец', 'quantity': 20, 'measure': 'гр'}\n",
            "{'ingridient_name': 'сыр', 'quantity': 20, 'measure': 'гр'}\n",
            "{'ingridient_name': 'колбаса', 'quantity': 30, 'measure': 'гр'}\n",
            "{'ingridient_name': 'бекон', 'quantity': 30, 'measure': 'гр'}\n",
            "{'ingridient_name': 'оливки', 'quantity': 10, 'measure': 'гр'}\n",
            "{'ingridient_name': 'томаты', 'quantity': 20, 'measure': 'гр'}\n",
            "{'ingridient_name': 'тесто', 'quantity': 100, 'measure': 'гр'}\n",
            "{'ingridient_name': 'лимон', 'quantity': 1, 'measure': 'шт'}\n",
            "{'ingridient_name': 'вода', 'quantity': 200, 'measure': 'мл'}\n",
            "{'ingridient_name': 'сахар', 'quantity': 10, 'measure': 'гр'}\n",
            "{'ingridient_name': 'лайм', 'quantity': 20, 'measure': 'гр'}\n"
          ]
        }
      ]
    }
  ]
}